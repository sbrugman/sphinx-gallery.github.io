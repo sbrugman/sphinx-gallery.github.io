{
  "cells": [
    {
      "cell_type": "code",
      "execution_count": null,
      "metadata": {
        "collapsed": false
      },
      "outputs": [],
      "source": [
        "%matplotlib inline"
      ]
    },
    {
      "cell_type": "markdown",
      "metadata": {},
      "source": [
        "\nSeaborn example\n===============\n\nPreview the capture of seaborn styles in plots\n\n"
      ]
    },
    {
      "cell_type": "code",
      "execution_count": null,
      "metadata": {
        "collapsed": false
      },
      "outputs": [],
      "source": [
        "# Author: Michael Waskom\n# License: BSD 3 clause\n\nfrom __future__ import division, absolute_import, print_function\n\n\nimport numpy as np\nimport seaborn as sns\n\n# Enforce the use of default set style\n#sns.set(style=\"darkgrid\", palette=\"Set2\")\n\n# Create a noisy periodic dataset\nsines = []\nrs = np.random.RandomState(8)\nfor _ in range(15):\n    x = np.linspace(0, 30 / 2, 30)\n    y = np.sin(x) + rs.normal(0, 1.5) + rs.normal(0, .3, 30)\n    sines.append(y)\n\n# Plot the average over replicates with bootstrap resamples\nsns.tsplot(sines, err_style=\"boot_traces\", n_boot=500)"
      ]
    }
  ],
  "metadata": {
    "kernelspec": {
      "display_name": "Python 3",
      "language": "python",
      "name": "python3"
    },
    "language_info": {
      "codemirror_mode": {
        "name": "ipython",
        "version": 3
      },
      "file_extension": ".py",
      "mimetype": "text/x-python",
      "name": "python",
      "nbconvert_exporter": "python",
      "pygments_lexer": "ipython3",
      "version": "3.6.8"
    }
  },
  "nbformat": 4,
  "nbformat_minor": 0
}
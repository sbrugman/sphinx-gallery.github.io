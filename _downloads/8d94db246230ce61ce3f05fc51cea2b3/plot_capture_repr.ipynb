{
  "cells": [
    {
      "cell_type": "code",
      "execution_count": null,
      "metadata": {
        "collapsed": false
      },
      "outputs": [],
      "source": [
        "%matplotlib inline"
      ]
    },
    {
      "cell_type": "markdown",
      "metadata": {},
      "source": [
        "\nCapturing output representations\n================================\n\nThis example demonstrates how the configuration ``capture_repr``\n(`capture_repr`) works. The setting used to build this Sphinx-Gallery\ndocumentation is ``capture_repr: ('_repr_html_', '__repr__')``. The output that\nis captured with this setting can be observed in this example. Differences in\noutputs that would be captured with other ``capture_repr`` tuples is also\nexplained.\n\n"
      ]
    },
    {
      "cell_type": "markdown",
      "metadata": {},
      "source": [
        "Nothing is captured for the code block above because no data is directed to\nstandard output and the last statement is not an expression.\n\n"
      ]
    },
    {
      "cell_type": "code",
      "execution_count": null,
      "metadata": {
        "collapsed": false
      },
      "outputs": [],
      "source": [
        "# example 1\na = 2\nb = 10"
      ]
    },
    {
      "cell_type": "markdown",
      "metadata": {},
      "source": [
        "If you did wish to capture the value of ``b``, you would need to use:\n\n"
      ]
    },
    {
      "cell_type": "code",
      "execution_count": null,
      "metadata": {
        "collapsed": false
      },
      "outputs": [],
      "source": [
        "# example 2\na = 2\nb = 10\nb   # this is an expression"
      ]
    },
    {
      "cell_type": "markdown",
      "metadata": {},
      "source": [
        "Technically, Sphinx-Gallery first attempts to capture the ``_repr_html_``\nof ``b`` as this is the first 'representation' method in the ``capture_repr``\ntuple. As this method does not exist for ``b``, Sphinx-Gallery moves on to\ntry and capture the ``__repr__`` method, which is second in the tuple. This\ndoes exist for ``b`` so it is captured and included above. \n\nA pandas dataframe is used in the code block below to provide an example of\nan expression with a ``_repr_html_`` method. \n\n"
      ]
    },
    {
      "cell_type": "code",
      "execution_count": null,
      "metadata": {
        "collapsed": false
      },
      "outputs": [],
      "source": [
        "# example 3\nimport pandas as pd\n\ndf = pd.DataFrame(data = {'col1': [1, 2], 'col2': [3, 4]})\ndf"
      ]
    },
    {
      "cell_type": "markdown",
      "metadata": {},
      "source": [
        "The pandas dataframe ``df`` has both a ``__repr__`` and ``_repr_html_``\nmethod. As ``_repr_html_`` appears first in the ``capture_repr`` tuple, the\n``_repr_html_`` is captured in preference.\n\nFor the example below, the last statement is an expression and there is\nstandard output data:\n\n"
      ]
    },
    {
      "cell_type": "code",
      "execution_count": null,
      "metadata": {
        "collapsed": false
      },
      "outputs": [],
      "source": [
        "# example 4\nprint('Hello world')\na + b"
      ]
    },
    {
      "cell_type": "markdown",
      "metadata": {},
      "source": [
        "``print()`` outputs to standard output, which is always captured. The\nstring ``'Hello world'`` is thus captured. A 'representation' of the last\nexpression is also captured. Again, since this expression does not have a\n``_repr_html_`` method, the ``__repr__`` method is captured.\n\nThe ``capture_repr`` configuration\n##################################\n\nThe ``capture_repr`` configuration is an empty tuple by default. With this\nsetting, only data directed to standard output is captured. Thus, output\nwould only be captured for example 4.\n\nAdding 'representations' to the ``capture_repr`` tuple would direct\nSphinx-Gallery to capture a 'representation' of the last statement, only if\nit is an expression. In examples 2, 3 and 4, the last statement is an\nexpression. If the ``capture_repr`` configuration was *not* an empty tuple,\nSphinx-Gallery would attempt to capture a 'representation' of the last\nexpression for these examples. This would be performed according to the order\nthat the ' ' methods are given in the tuple, with\npreference given to earlier methods.\n\nIf no 'representation' in the ``capture_repr`` tuple is present for a last\nexpression, nothing would be captured. For example, if the the configuration\nwas set to ``'capture_repr': ('_repr_html_')`` nothing would be captured for\nexample 2 as ``b`` does not have a ``_repr_html_``.\n\n"
      ]
    }
  ],
  "metadata": {
    "kernelspec": {
      "display_name": "Python 3",
      "language": "python",
      "name": "python3"
    },
    "language_info": {
      "codemirror_mode": {
        "name": "ipython",
        "version": 3
      },
      "file_extension": ".py",
      "mimetype": "text/x-python",
      "name": "python",
      "nbconvert_exporter": "python",
      "pygments_lexer": "ipython3",
      "version": "3.6.9"
    }
  },
  "nbformat": 4,
  "nbformat_minor": 0
}
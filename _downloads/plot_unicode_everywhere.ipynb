{
  "nbformat_minor": 0, 
  "nbformat": 4, 
  "cells": [
    {
      "execution_count": null, 
      "cell_type": "code", 
      "source": [
        "%matplotlib inline"
      ], 
      "outputs": [], 
      "metadata": {
        "collapsed": false
      }
    }, 
    {
      "source": [
        "\nUsing Unicode everywhere \ud83e\udd17\n===========================\n\nThis examples includes unicode characters, mostly emoji \ud83c\udf89 to stress test the\nbuild and test environments that parse the example files. \n"
      ], 
      "cell_type": "markdown", 
      "metadata": {}
    }, 
    {
      "execution_count": null, 
      "cell_type": "code", 
      "source": [
        "from __future__ import unicode_literals\n\n# \ud83c\udf89 \ud83d\udc4d\n# Code source: \u00d3scar N\u00e1jera\n# License: BSD 3 clause\n\nimport numpy as np\nimport matplotlib.pyplot as plt\n\nplt.rcParams['font.size'] = 20\nplt.rcParams[\"font.monospace\"] = [\"DejaVu Sans Mono\"]\nplt.rcParams[\"font.family\"] = \"monospace\"\n\nplt.figure()\nx = np.random.randn(100) * 2 + 1\ny = np.random.randn(100) * 6 + 3\ns = np.random.rand(*x.shape) * 800 + 500\nplt.scatter(x, y, s, marker=r'$\\oint$')\nx = np.random.randn(60) * 7 - 4\ny = np.random.randn(60) * 3 - 2\nplt.scatter(x, y, s, alpha=0.5, c='g', marker=r'$\\clubsuit$')\nplt.xlabel('\u21d2')\nplt.ylabel('\u21d2')\nplt.title('\u2672' * 10)\nprint('Std out capture \ud83d\ude0e')\nplt.show()"
      ], 
      "outputs": [], 
      "metadata": {
        "collapsed": false
      }
    }, 
    {
      "source": [
        "Debug fonts\n\n"
      ], 
      "cell_type": "markdown", 
      "metadata": {}
    }, 
    {
      "execution_count": null, 
      "cell_type": "code", 
      "source": [
        "print(plt.rcParams)"
      ], 
      "outputs": [], 
      "metadata": {
        "collapsed": false
      }
    }
  ], 
  "metadata": {
    "kernelspec": {
      "display_name": "Python 2", 
      "name": "python2", 
      "language": "python"
    }, 
    "language_info": {
      "mimetype": "text/x-python", 
      "nbconvert_exporter": "python", 
      "name": "python", 
      "file_extension": ".py", 
      "version": "2.7.14", 
      "pygments_lexer": "ipython2", 
      "codemirror_mode": {
        "version": 2, 
        "name": "ipython"
      }
    }
  }
}
{
  "nbformat_minor": 0, 
  "nbformat": 4, 
  "cells": [
    {
      "execution_count": null, 
      "cell_type": "code", 
      "source": [
        "%matplotlib inline"
      ], 
      "outputs": [], 
      "metadata": {
        "collapsed": false
      }
    }, 
    {
      "source": [
        "\nSphinx-Gallery introduction\n===========================\n\nPlot to present Sphinx-Gallery using itself to display its\nversion.\n\n"
      ], 
      "cell_type": "markdown", 
      "metadata": {}
    }, 
    {
      "execution_count": null, 
      "cell_type": "code", 
      "source": [
        "# Code source: \u00d3scar N\u00e1jera\n# License: BSD 3 clause\n\nimport numpy as np\nimport matplotlib.pyplot as plt\nimport sphinx_gallery\n\nnp.random.seed(32)\n\n\ndef layers(n, m):\n    \"\"\"\n    Return *n* random Gaussian mixtures, each of length *m*.\n    \"\"\"\n    def bump(a):\n        x = 1 / (.1 + np.random.random())\n        y = 2 * np.random.random() - .3\n        z = 13 / (.1 + np.random.random())\n        for i in range(m):\n            w = (i / float(m) - y) * z\n            a[i] += x * np.exp(-w * w)\n    a = np.zeros((m, n))\n    for i in range(n):\n        for j in range(12):\n            bump(a[:, i])\n    return np.abs(a)\n\n\nfig = plt.figure()\nd = layers(3, 100)\nx = range(100)\nfor mixture in d.T:\n    mixture[[0, -1]] = 0.\n    plt.fill(x, mixture, alpha=0.9)\n\nplt.annotate('Introducing Sphinx-Gallery ' + sphinx_gallery.__version__,\n             xy=(12, 4), arrowprops=dict(arrowstyle='->'), xytext=(22, 6))\n\nplt.xticks([])\nplt.yticks([])\n\n\nplt.show()"
      ], 
      "outputs": [], 
      "metadata": {
        "collapsed": false
      }
    }
  ], 
  "metadata": {
    "kernelspec": {
      "display_name": "Python 2", 
      "name": "python2", 
      "language": "python"
    }, 
    "language_info": {
      "mimetype": "text/x-python", 
      "nbconvert_exporter": "python", 
      "name": "python", 
      "file_extension": ".py", 
      "version": "2.7.15", 
      "pygments_lexer": "ipython2", 
      "codemirror_mode": {
        "version": 2, 
        "name": "ipython"
      }
    }
  }
}
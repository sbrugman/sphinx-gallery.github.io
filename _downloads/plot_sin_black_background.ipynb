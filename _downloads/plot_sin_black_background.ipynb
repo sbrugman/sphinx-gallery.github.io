{
  "cells": [
    {
      "cell_type": "code",
      "execution_count": null,
      "metadata": {
        "collapsed": false
      },
      "outputs": [],
      "source": [
        "%matplotlib inline"
      ]
    },
    {
      "cell_type": "markdown",
      "metadata": {},
      "source": [
        "\nPlotting simple sin function on a black background\n==================================================\n\nA simple example of the plot of a sin function on a black background\n\n\n"
      ]
    },
    {
      "cell_type": "code",
      "execution_count": null,
      "metadata": {
        "collapsed": false
      },
      "outputs": [],
      "source": [
        "# Code source: Lo\u00efc Est\u00e8ve\n# License: BSD 3 clause\n\nimport numpy as np\nimport matplotlib.pyplot as plt\n\nbg_color = 'black'\nfg_color = 'white'\n\nfig = plt.figure(facecolor=bg_color, edgecolor=fg_color)\naxes = fig.add_subplot(111)\naxes.patch.set_facecolor(bg_color)\naxes.xaxis.set_tick_params(color=fg_color, labelcolor=fg_color)\naxes.yaxis.set_tick_params(color=fg_color, labelcolor=fg_color)\nfor spine in axes.spines.values():\n    spine.set_color(fg_color)\n\nx = np.linspace(0, 2 * np.pi, 100)\ny = np.sin(x)\n\nplt.plot(x, y, 'cyan', axes=axes)\nplt.xlabel('$x$', color=fg_color)\nplt.ylabel('$\\sin(x)$', color=fg_color)\nplt.show()"
      ]
    }
  ],
  "metadata": {
    "kernelspec": {
      "display_name": "Python 3",
      "language": "python",
      "name": "python3"
    },
    "language_info": {
      "codemirror_mode": {
        "name": "ipython",
        "version": 3
      },
      "file_extension": ".py",
      "mimetype": "text/x-python",
      "name": "python",
      "nbconvert_exporter": "python",
      "pygments_lexer": "ipython3",
      "version": "3.6.6"
    }
  },
  "nbformat": 4,
  "nbformat_minor": 0
}
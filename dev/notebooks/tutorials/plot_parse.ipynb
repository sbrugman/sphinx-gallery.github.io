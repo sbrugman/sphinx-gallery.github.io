{
  "cells": [
    {
      "cell_type": "code",
      "execution_count": null,
      "metadata": {
        "collapsed": false
      },
      "outputs": [],
      "source": [
        "%matplotlib inline"
      ]
    },
    {
      "cell_type": "markdown",
      "metadata": {},
      "source": [
        "\nAlternating text and code\n=========================\n\nSphinx-Gallery is capable of transforming Python files into rST files\nwith a notebook structure. For this to be used you need to respect some syntax\nrules. This example demonstrates how to alternate text and code blocks and some\nedge cases. It was designed to be compared with the\n:download:`source Python script <plot_parse.py>`.\n"
      ]
    },
    {
      "cell_type": "markdown",
      "metadata": {},
      "source": [
        "This is the first text block and directly follows the header docstring above.\n\n"
      ]
    },
    {
      "cell_type": "code",
      "execution_count": null,
      "metadata": {
        "collapsed": false
      },
      "outputs": [],
      "source": [
        "import numpy as np"
      ]
    },
    {
      "cell_type": "code",
      "execution_count": null,
      "metadata": {
        "collapsed": false
      },
      "outputs": [],
      "source": [
        "# a block separator (line of #'s) allows you to create two separate code blocks\nA = 1\n\nimport matplotlib.pyplot as plt"
      ]
    },
    {
      "cell_type": "markdown",
      "metadata": {},
      "source": [
        "You can easily alternate between code and text blocks **and** separate\nsequential blocks of code (above) and text (below). Note that separated\ntext blocks only shows as a new lines between text, in the rendered output.\n\n"
      ]
    },
    {
      "cell_type": "markdown",
      "metadata": {},
      "source": [
        "You can separate blocks using either a single line of ``#``'s (>=20 columns)\nor ``#%%``. For compatibility reasons ``# %%`` (with a space) can also be used\nbut we recommend only using ``#%%`` for consistency. All future \n'block splitters' used in the source ``.py`` document will be ``#%%``.\n\n"
      ]
    },
    {
      "cell_type": "code",
      "execution_count": null,
      "metadata": {
        "collapsed": false
      },
      "outputs": [],
      "source": [
        "def dummy():\n    \"\"\"This should not be part of a 'text' block'\"\"\"\n\n    #############################################\n    # Comment inside code to remain in code block\n    pass\n\n# this should not be part of a 'text' block"
      ]
    },
    {
      "cell_type": "markdown",
      "metadata": {},
      "source": [
        "####################################################################\n\nThe above syntax makes a line cut in Sphinx. Note the space between the first\n``#`` and the line of ``#``'s.\n\n"
      ]
    },
    {
      "cell_type": "markdown",
      "metadata": {},
      "source": [
        "<div class=\"alert alert-danger\"><h4>Warning</h4><p>The next kind of comments are not supported and become too hard to escape\n    so just don't code like this::\n\n        def dummy2():\n            \"\"\"Function docstring\"\"\"\n        ####################################\n        # This comment \n        #%%\n        # and this comment inside python indentation\n        # breaks the block structure and is not\n        # supported\n            dummy2</p></div>\n\n\n"
      ]
    },
    {
      "cell_type": "code",
      "execution_count": null,
      "metadata": {
        "collapsed": false
      },
      "outputs": [],
      "source": [
        "\"\"\"Free strings are not supported. They will be rendered as a code block\"\"\""
      ]
    },
    {
      "cell_type": "markdown",
      "metadata": {},
      "source": [
        "New lines can be included in your text block and the parser\nis capable of retaining this important whitespace to work with Sphinx.\nEverything after a block splitter and starting with ``#`` then one space,\nis interpreted by Sphinx-Gallery to be a rST text block. Keep your text\nblock together using ``#`` and a space at the beginning of each line.\n\nrST header within text block\n^^^^^^^^^^^^^^^^^^^^^^^^^^^^\n\n"
      ]
    },
    {
      "cell_type": "code",
      "execution_count": null,
      "metadata": {
        "collapsed": false
      },
      "outputs": [],
      "source": [
        "print('one')"
      ]
    },
    {
      "cell_type": "code",
      "execution_count": null,
      "metadata": {
        "collapsed": false
      },
      "outputs": [],
      "source": [
        "# another way to separate code blocks shown above\nB = 1"
      ]
    },
    {
      "cell_type": "markdown",
      "metadata": {},
      "source": [
        "Last text block.\n\nThat's all folks !\n\n.. literalinclude:: plot_parse.py\n\n\n\n"
      ]
    }
  ],
  "metadata": {
    "kernelspec": {
      "display_name": "Python 3",
      "language": "python",
      "name": "python3"
    },
    "language_info": {
      "codemirror_mode": {
        "name": "ipython",
        "version": 3
      },
      "file_extension": ".py",
      "mimetype": "text/x-python",
      "name": "python",
      "nbconvert_exporter": "python",
      "pygments_lexer": "ipython3",
      "version": "3.6.10"
    }
  },
  "nbformat": 4,
  "nbformat_minor": 0
}
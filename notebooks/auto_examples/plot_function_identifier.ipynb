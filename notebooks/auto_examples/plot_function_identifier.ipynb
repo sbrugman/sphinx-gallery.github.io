{
  "cells": [
    {
      "cell_type": "code",
      "execution_count": null,
      "metadata": {
        "collapsed": false
      },
      "outputs": [],
      "source": [
        "%matplotlib inline"
      ]
    },
    {
      "cell_type": "markdown",
      "metadata": {},
      "source": [
        "\nIdentifying function names in a script\n======================================\n\nCalls Sphinx-Gallery identify names function to figure out which\nfunctions are called in the script and to which module do they belong.\n\n"
      ]
    },
    {
      "cell_type": "code",
      "execution_count": null,
      "metadata": {
        "collapsed": false
      },
      "outputs": [],
      "source": [
        "# Code source: \u00d3scar N\u00e1jera\n# License: BSD 3 clause\n\nimport matplotlib.pyplot as plt\nimport sphinx_gallery.backreferences as spback\n\n\nfilename = spback.__file__.replace('.pyc', '.py')\nnames = spback.identify_names(filename)\nfigheight = len(names) + .5\n\nfontsize = 22\nfig = plt.figure()\n\nfor i, (name, obj) in enumerate(names.items()):\n    fig.text(0.3, (float(len(names)) - 0.5 - i) / figheight,\n             name,\n             ha=\"right\",\n             size=fontsize,\n             transform=fig.transFigure,\n             bbox=dict(boxstyle='square', fc=\"w\", ec=\"k\"))\n    fig.text(0.35, (float(len(names)) - 0.5 - i) / figheight,\n             obj[\"module\"],\n             ha=\"left\",\n             size=fontsize,\n             transform=fig.transFigure,\n             bbox=dict(boxstyle='larrow', fc=\"w\", ec=\"k\"))\n#\nplt.draw()\nplt.show()"
      ]
    }
  ],
  "metadata": {
    "kernelspec": {
      "display_name": "Python 3",
      "language": "python",
      "name": "python3"
    },
    "language_info": {
      "codemirror_mode": {
        "name": "ipython",
        "version": 3
      },
      "file_extension": ".py",
      "mimetype": "text/x-python",
      "name": "python",
      "nbconvert_exporter": "python",
      "pygments_lexer": "ipython3",
      "version": "3.6.5"
    }
  },
  "nbformat": 4,
  "nbformat_minor": 0
}
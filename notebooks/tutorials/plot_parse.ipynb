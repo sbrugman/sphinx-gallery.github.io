{
  "cells": [
    {
      "cell_type": "code",
      "execution_count": null,
      "metadata": {
        "collapsed": false
      },
      "outputs": [],
      "source": [
        "%matplotlib inline"
      ]
    },
    {
      "cell_type": "markdown",
      "metadata": {},
      "source": [
        "\nThe Header Docstring\n====================\n\nWhen writting latex in a Python string keep in mind to escape the backslashes\nor use a raw docstring\n\n\\begin{align}\\sin (x)\\end{align}\n\nClosing this string quotes on same line\n"
      ]
    },
    {
      "cell_type": "markdown",
      "metadata": {},
      "source": [
        "Direct first comment\nwith second line\n\n"
      ]
    },
    {
      "cell_type": "code",
      "execution_count": null,
      "metadata": {
        "collapsed": false
      },
      "outputs": [],
      "source": [
        "import numpy as np"
      ]
    },
    {
      "cell_type": "code",
      "execution_count": null,
      "metadata": {
        "collapsed": false
      },
      "outputs": [],
      "source": [
        "A = 1\n\nimport matplotlib.pyplot as plt"
      ]
    },
    {
      "cell_type": "markdown",
      "metadata": {},
      "source": [
        "There is no need to always alternate between code and comment blocks\nNow there is free repetition of both\n\n"
      ]
    },
    {
      "cell_type": "markdown",
      "metadata": {},
      "source": [
        "A block an be split by either a single line of ``#``'s (>=20 columns) or \n``#%%``. For compatibility reasons ``# %%`` (with a space) can also be used\nbut we recommend only using ``#%%`` for consistency. All future \n'block splitters' used in the source ``.py`` document will be ``#%%``.\n\n"
      ]
    },
    {
      "cell_type": "markdown",
      "metadata": {},
      "source": [
        "Latex in the comments does not need to be escaped\n\n\\begin{align}\\sin\\end{align}\n\n"
      ]
    },
    {
      "cell_type": "code",
      "execution_count": null,
      "metadata": {
        "collapsed": false
      },
      "outputs": [],
      "source": [
        "def dummy():\n    \"\"\"This should not be part of a 'text' block'\"\"\"\n\n    ######################################\n    # Comment inside code to remain here\n    pass\n\n# this should not be part of a 'text' block"
      ]
    },
    {
      "cell_type": "markdown",
      "metadata": {},
      "source": [
        "####################################################################\n\nMaking a line cut in sphinx\n\n"
      ]
    },
    {
      "cell_type": "markdown",
      "metadata": {},
      "source": [
        "<div class=\"alert alert-danger\"><h4>Warning</h4><p>The next kind of comments are not supported and become too hard to escape\n    so just don't code like this::\n\n        def dummy2():\n            \"\"\"Function docstring\"\"\"\n        ####################################\n        # This comment \n        #%%\n        # and this comment inside python indentation\n        # breaks the block structure and is not\n        # supported\n            dummy2</p></div>\n\n\n"
      ]
    },
    {
      "cell_type": "code",
      "execution_count": null,
      "metadata": {
        "collapsed": false
      },
      "outputs": [],
      "source": [
        "\"\"\"Free strings are not supported. They remain part of the code\"\"\""
      ]
    },
    {
      "cell_type": "markdown",
      "metadata": {},
      "source": [
        "New lines can be included in your block comments and the parser\nis capable of retaining this significant whitespace to work with sphinx\n\nSo the reStructuredText headers survive\n^^^^^^^^^^^^^^^^^^^^^^^^^^^^^^^^^^^^^^^\n\n"
      ]
    },
    {
      "cell_type": "code",
      "execution_count": null,
      "metadata": {
        "collapsed": false
      },
      "outputs": [],
      "source": [
        "print('one')"
      ]
    },
    {
      "cell_type": "markdown",
      "metadata": {},
      "source": [
        "Code block separators\n###################################################################\n Surrounding a comment line with a line of ``#``'s (like a block splitter)\n above and below (or ``#%%`` on top and a line of ``#``'s below, as we have \n done here in the source ``.py`` doc) also works and creates a new header for\n that comment block too. Nevertheless to get rich text formatting we advise to\n use RestructuredText syntax in the comment blocks.\n\n"
      ]
    },
    {
      "cell_type": "code",
      "execution_count": null,
      "metadata": {
        "collapsed": false
      },
      "outputs": [],
      "source": [
        "print('two')"
      ]
    },
    {
      "cell_type": "code",
      "execution_count": null,
      "metadata": {
        "collapsed": false
      },
      "outputs": [],
      "source": [
        "B = 1"
      ]
    },
    {
      "cell_type": "markdown",
      "metadata": {},
      "source": [
        "End comments\n\nThat's all folks !\n\n.. literalinclude:: plot_parse.py\n\n\n\n"
      ]
    }
  ],
  "metadata": {
    "kernelspec": {
      "display_name": "Python 3",
      "language": "python",
      "name": "python3"
    },
    "language_info": {
      "codemirror_mode": {
        "name": "ipython",
        "version": 3
      },
      "file_extension": ".py",
      "mimetype": "text/x-python",
      "name": "python",
      "nbconvert_exporter": "python",
      "pygments_lexer": "ipython3",
      "version": "3.6.9"
    }
  },
  "nbformat": 4,
  "nbformat_minor": 0
}
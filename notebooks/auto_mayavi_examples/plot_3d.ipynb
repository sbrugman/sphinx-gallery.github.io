{
  "nbformat_minor": 0, 
  "nbformat": 4, 
  "cells": [
    {
      "execution_count": null, 
      "cell_type": "code", 
      "source": [
        "%matplotlib inline"
      ], 
      "outputs": [], 
      "metadata": {
        "collapsed": false
      }
    }, 
    {
      "source": [
        "\nPlotting simple 3D graph with Mayavi\n====================================\n\nA simple example of the plot of a 3D graph with Mayavi\nin order to test the autonomy of the gallery.\n\n"
      ], 
      "cell_type": "markdown", 
      "metadata": {}
    }, 
    {
      "execution_count": null, 
      "cell_type": "code", 
      "source": [
        "# Code source: Alex Gramfort\n# License: BSD 3 clause\n\n# This will show the mlab.test_mesh figure in the gallery\n# sphinx_gallery_thumbnail_number = 4\n\nfrom mayavi import mlab\n\nmlab.test_plot3d()\n\nmlab.figure()\nmlab.test_contour3d()"
      ], 
      "outputs": [], 
      "metadata": {
        "collapsed": false
      }
    }, 
    {
      "source": [
        "Note: this shows that inside a cell matplotlib figures are always\nput before mayavi in the example HTML. In other words, the order of\nplotting is not respected between matplotlib and mayavi figures\n\n"
      ], 
      "cell_type": "markdown", 
      "metadata": {}
    }, 
    {
      "execution_count": null, 
      "cell_type": "code", 
      "source": [
        "mlab.figure()\nmlab.test_mesh()\n\nmlab.figure()\nmlab.test_flow()\n\nimport matplotlib.pyplot as plt\nplt.plot([1, 2, 3], [1, 2, 3])"
      ], 
      "outputs": [], 
      "metadata": {
        "collapsed": false
      }
    }
  ], 
  "metadata": {
    "kernelspec": {
      "display_name": "Python 2", 
      "name": "python2", 
      "language": "python"
    }, 
    "language_info": {
      "mimetype": "text/x-python", 
      "nbconvert_exporter": "python", 
      "name": "python", 
      "file_extension": ".py", 
      "version": "2.7.15", 
      "pygments_lexer": "ipython2", 
      "codemirror_mode": {
        "version": 2, 
        "name": "ipython"
      }
    }
  }
}